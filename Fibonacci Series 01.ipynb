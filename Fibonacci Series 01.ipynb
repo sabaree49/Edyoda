{
 "cells": [
  {
   "cell_type": "code",
   "execution_count": 1,
   "id": "8a765fc6",
   "metadata": {},
   "outputs": [
    {
     "name": "stdout",
     "output_type": "stream",
     "text": [
      "Fibonacci series between 0 to 50 is  1  1  2  3  5  8  13  21  34  "
     ]
    }
   ],
   "source": [
    "First_value = 0\n",
    "Second_value = 1\n",
    "print('Fibonacci series between 0 to 50 is ',end=\" \")\n",
    "for i in range(9):\n",
    "    if i == 1:\n",
    "        Fibonacci = i\n",
    "    else:\n",
    "        Fibonacci = First_value + Second_value\n",
    "        First_value,Second_value = Second_value,Fibonacci\n",
    "    print(Fibonacci,end=\"  \")"
   ]
  },
  {
   "cell_type": "code",
   "execution_count": null,
   "id": "db23f2ae",
   "metadata": {},
   "outputs": [],
   "source": []
  },
  {
   "cell_type": "code",
   "execution_count": null,
   "id": "18f02389",
   "metadata": {},
   "outputs": [],
   "source": []
  }
 ],
 "metadata": {
  "kernelspec": {
   "display_name": "Python 3 (ipykernel)",
   "language": "python",
   "name": "python3"
  },
  "language_info": {
   "codemirror_mode": {
    "name": "ipython",
    "version": 3
   },
   "file_extension": ".py",
   "mimetype": "text/x-python",
   "name": "python",
   "nbconvert_exporter": "python",
   "pygments_lexer": "ipython3",
   "version": "3.9.6"
  }
 },
 "nbformat": 4,
 "nbformat_minor": 5
}
