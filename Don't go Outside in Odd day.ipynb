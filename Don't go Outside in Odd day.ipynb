{
 "cells": [
  {
   "cell_type": "code",
   "execution_count": 8,
   "id": "db6a349b",
   "metadata": {},
   "outputs": [
    {
     "name": "stdout",
     "output_type": "stream",
     "text": [
      "Number of Even Numbers = 4 Number of Odd Numbers = 5\n"
     ]
    }
   ],
   "source": [
    "x = (1,2,3,4,5,6,7,8,9)\n",
    "even = 0\n",
    "odd = 0\n",
    "for i in range(len(x)):\n",
    "    if x[i]%2==0:\n",
    "        even +=1\n",
    "    else:\n",
    "        odd +=1\n",
    "print('Number of Even Numbers = {} Number of Odd Numbers = {}'.format(even,odd))\n"
   ]
  },
  {
   "cell_type": "code",
   "execution_count": null,
   "id": "7381e09f",
   "metadata": {},
   "outputs": [],
   "source": []
  }
 ],
 "metadata": {
  "kernelspec": {
   "display_name": "Python 3 (ipykernel)",
   "language": "python",
   "name": "python3"
  },
  "language_info": {
   "codemirror_mode": {
    "name": "ipython",
    "version": 3
   },
   "file_extension": ".py",
   "mimetype": "text/x-python",
   "name": "python",
   "nbconvert_exporter": "python",
   "pygments_lexer": "ipython3",
   "version": "3.9.6"
  }
 },
 "nbformat": 4,
 "nbformat_minor": 5
}
