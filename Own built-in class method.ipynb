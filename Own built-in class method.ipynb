{
 "cells": [
  {
   "cell_type": "code",
   "execution_count": 3,
   "id": "34aa010b",
   "metadata": {},
   "outputs": [],
   "source": [
    "class power:\n",
    "    def pow(self,x,n):\n",
    "        if x==0 or x==1 or n==1:\n",
    "            return x\n",
    "        if x==-1:\n",
    "            if n%2 == 0:\n",
    "                return 1\n",
    "            else:\n",
    "                return -1\n",
    "        if n==0:\n",
    "            return 1\n",
    "        if n<0:\n",
    "            return 1/self.pow(x,-n)\n",
    "        answer = self.pow(x,n//2)\n",
    "        if n%2 == 0:\n",
    "            return answer*answer\n",
    "        return answer*answer*x"
   ]
  },
  {
   "cell_type": "code",
   "execution_count": 5,
   "id": "db341e10",
   "metadata": {},
   "outputs": [
    {
     "data": {
      "text/plain": [
       "100"
      ]
     },
     "execution_count": 5,
     "metadata": {},
     "output_type": "execute_result"
    }
   ],
   "source": [
    "obj = power()\n",
    "obj.pow(10,2)"
   ]
  },
  {
   "cell_type": "code",
   "execution_count": null,
   "id": "0e3985d8",
   "metadata": {},
   "outputs": [],
   "source": []
  }
 ],
 "metadata": {
  "kernelspec": {
   "display_name": "Python 3 (ipykernel)",
   "language": "python",
   "name": "python3"
  },
  "language_info": {
   "codemirror_mode": {
    "name": "ipython",
    "version": 3
   },
   "file_extension": ".py",
   "mimetype": "text/x-python",
   "name": "python",
   "nbconvert_exporter": "python",
   "pygments_lexer": "ipython3",
   "version": "3.9.6"
  }
 },
 "nbformat": 4,
 "nbformat_minor": 5
}
