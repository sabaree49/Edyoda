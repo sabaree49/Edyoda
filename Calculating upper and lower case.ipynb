{
 "cells": [
  {
   "cell_type": "code",
   "execution_count": null,
   "id": "42b63ad2",
   "metadata": {},
   "outputs": [],
   "source": []
  },
  {
   "cell_type": "code",
   "execution_count": null,
   "id": "8ac6520d",
   "metadata": {},
   "outputs": [],
   "source": []
  },
  {
   "cell_type": "code",
   "execution_count": 5,
   "id": "e8e64209",
   "metadata": {},
   "outputs": [],
   "source": [
    "def string(n):\n",
    "    Upper = 0\n",
    "    lower = 0\n",
    "    for i in n:\n",
    "        if i.isupper():\n",
    "            Upper+=1\n",
    "        elif i.islower():\n",
    "            lower+=1\n",
    "        else:\n",
    "            pass\n",
    "    print (\"No. of Upper case  : {}\".format(Upper))\n",
    "    print (\"No. of Lower case  : {}\".format(lower))\n",
    "\n"
   ]
  },
  {
   "cell_type": "code",
   "execution_count": 6,
   "id": "08795007",
   "metadata": {},
   "outputs": [
    {
     "name": "stdout",
     "output_type": "stream",
     "text": [
      "No. of Upper case  : 3\n",
      "No. of Lower case  : 12\n"
     ]
    }
   ],
   "source": [
    "string('The quick Brow Fox')"
   ]
  },
  {
   "cell_type": "code",
   "execution_count": null,
   "id": "5de3d3ba",
   "metadata": {},
   "outputs": [],
   "source": []
  }
 ],
 "metadata": {
  "kernelspec": {
   "display_name": "Python 3 (ipykernel)",
   "language": "python",
   "name": "python3"
  },
  "language_info": {
   "codemirror_mode": {
    "name": "ipython",
    "version": 3
   },
   "file_extension": ".py",
   "mimetype": "text/x-python",
   "name": "python",
   "nbconvert_exporter": "python",
   "pygments_lexer": "ipython3",
   "version": "3.9.6"
  }
 },
 "nbformat": 4,
 "nbformat_minor": 5
}
