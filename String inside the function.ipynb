{
 "cells": [
  {
   "cell_type": "code",
   "execution_count": 6,
   "id": "924750e9",
   "metadata": {},
   "outputs": [],
   "source": [
    "def reverse_string(string):\n",
    "    reverse = ''\n",
    "    index = len(string)\n",
    "    while index > 0:\n",
    "        reverse += string[index-1]\n",
    "        index = index-1\n",
    "    return reverse"
   ]
  },
  {
   "cell_type": "code",
   "execution_count": 7,
   "id": "14be669b",
   "metadata": {},
   "outputs": [
    {
     "name": "stdout",
     "output_type": "stream",
     "text": [
      "dcba4321\n"
     ]
    }
   ],
   "source": [
    "print(reverse_string(\"1234abcd\"))"
   ]
  },
  {
   "cell_type": "code",
   "execution_count": null,
   "id": "6857bdfd",
   "metadata": {},
   "outputs": [],
   "source": []
  }
 ],
 "metadata": {
  "kernelspec": {
   "display_name": "Python 3 (ipykernel)",
   "language": "python",
   "name": "python3"
  },
  "language_info": {
   "codemirror_mode": {
    "name": "ipython",
    "version": 3
   },
   "file_extension": ".py",
   "mimetype": "text/x-python",
   "name": "python",
   "nbconvert_exporter": "python",
   "pygments_lexer": "ipython3",
   "version": "3.9.6"
  }
 },
 "nbformat": 4,
 "nbformat_minor": 5
}
