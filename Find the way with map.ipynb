{
 "cells": [
  {
   "cell_type": "code",
   "execution_count": 5,
   "id": "ff7a926f",
   "metadata": {},
   "outputs": [],
   "source": [
    "def triple(num):\n",
    "    return num*3"
   ]
  },
  {
   "cell_type": "code",
   "execution_count": 6,
   "id": "0426f4e1",
   "metadata": {},
   "outputs": [],
   "source": [
    "sample_list = [1,2,3,4,5,6,7]"
   ]
  },
  {
   "cell_type": "code",
   "execution_count": 7,
   "id": "431f21af",
   "metadata": {},
   "outputs": [],
   "source": [
    "value = list(map(triple,sample_list))"
   ]
  },
  {
   "cell_type": "code",
   "execution_count": 8,
   "id": "a09322bb",
   "metadata": {},
   "outputs": [
    {
     "name": "stdout",
     "output_type": "stream",
     "text": [
      "[3, 6, 9, 12, 15, 18, 21]\n"
     ]
    }
   ],
   "source": [
    "print(value)"
   ]
  },
  {
   "cell_type": "code",
   "execution_count": null,
   "id": "265c72b6",
   "metadata": {},
   "outputs": [],
   "source": []
  }
 ],
 "metadata": {
  "kernelspec": {
   "display_name": "Python 3 (ipykernel)",
   "language": "python",
   "name": "python3"
  },
  "language_info": {
   "codemirror_mode": {
    "name": "ipython",
    "version": 3
   },
   "file_extension": ".py",
   "mimetype": "text/x-python",
   "name": "python",
   "nbconvert_exporter": "python",
   "pygments_lexer": "ipython3",
   "version": "3.9.6"
  }
 },
 "nbformat": 4,
 "nbformat_minor": 5
}
